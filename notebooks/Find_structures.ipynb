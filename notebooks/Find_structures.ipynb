{
 "cells": [
  {
   "cell_type": "markdown",
   "metadata": {},
   "source": [
    "# All imports"
   ]
  },
  {
   "cell_type": "code",
   "execution_count": 1,
   "metadata": {},
   "outputs": [],
   "source": [
    "import pandas as pd"
   ]
  },
  {
   "cell_type": "code",
   "execution_count": 15,
   "metadata": {},
   "outputs": [
    {
     "name": "stdout",
     "output_type": "stream",
     "text": [
      "Populating the interactive namespace from numpy and matplotlib\n",
      "The autoreload extension is already loaded. To reload it, use:\n",
      "  %reload_ext autoreload\n"
     ]
    }
   ],
   "source": [
    "%pylab inline\n",
    "from IPython.display import HTML\n",
    "%load_ext autoreload\n",
    "%autoreload 2"
   ]
  },
  {
   "cell_type": "code",
   "execution_count": 3,
   "metadata": {},
   "outputs": [],
   "source": [
    "from pypdb.clients.search.search_client import perform_search\n",
    "from pypdb.clients.search.search_client import SearchService, ReturnType\n",
    "from pypdb.clients.search.operators import text_operators"
   ]
  },
  {
   "cell_type": "markdown",
   "metadata": {},
   "source": [
    "# Simple search by 'ATP-synthase'"
   ]
  },
  {
   "cell_type": "markdown",
   "metadata": {},
   "source": [
    "Просто захотела проверить, как библиотека работает, что находит по словам"
   ]
  },
  {
   "cell_type": "code",
   "execution_count": 5,
   "metadata": {},
   "outputs": [
    {
     "name": "stdout",
     "output_type": "stream",
     "text": [
      "Querying RCSB Search using the following parameters:\n",
      " {\"query\": {\"type\": \"terminal\", \"service\": \"text\", \"parameters\": {\"attribute\": \"struct.title\", \"operator\": \"contains_phrase\", \"value\": \"ATP-synthase\"}}, \"request_options\": {\"return_all_hits\": true}, \"return_type\": \"entry\"} \n",
      "\n",
      "['5DN6', '6VMG', '6VMB', '6VMD', '6VM1', '6VM4', '6VOH', '6VOG', '6VOJ', '6VOI', '6VOL', '6VOK', '6VON', '6VOM', '6VOF', '6VOO', '6ZBB', '6ZNA', '6ZMR', '6TT7', '6PI4', '5FIK', '5FIJ', '5FIL', '6N2Y', '6N30', '5ARA', '5ARE', '5ARI', '5ARH', '6WNR', '6WNQ', '6ZA9', '6OQS', '6OQU', '6OQT', '6OQW', '6OQV', '6PQV', '6N2D', '6N2Z', '1L2P', '1C17', '5T4P', '5T4O', '5T4Q', '6ZQN', '6ZQM', '6ZG8', '6ZG7', '6ZIU', '6ZIQ', '6ZIT', '6ZIK', '6ZPO', '6OQR', '6CP6', '1FS0', '6B8H', '4V1G', '6YY0', '1AQT', '6Z1U', '6Z1R', '2CLY', '3U32', '2WPD', '5FL7', '6J5J', '6J5I', '6VWK', '3U2F', '3U2Y', '3V3C', '3UD0', '3OAA', '3ZO6', '2XND', '2WSS', '5BO5', '6TDV', '6RD4', '1B9U', '6YNX', '3P20', '3SSA', '3TGW', '3TIV', '4B2Q', '6J54', '6J5A', '6CP7', '5BN5', '6RDH', '7JGB', '7JGC', '1QO1', '6YNV', '6YNW', '6YO0', '2W5J', '2WIE', '4V1F', '3M4Y', '4BEM', '5YIO', '6CP3', '6TDX', '6RDC', '6RD9', '6RD6', '6REB', '6REE', '6RDZ', '6RDQ', '6RE2', '6RDT', '6RE5', '6RDW', '6RE8', '6RDK', '6RDO', '6RES', '1IJP', '7JGA', '7JG5', '1A91', '6B2Z', '1C0V', '6WTD', '6YNZ', '6YNY', '2WGM', '4V1H', '4Q4L', '6J5K', '6TDW', '6TDU', '6TQJ', '6RDA', '6RDF', '6REC', '6REF', '6RDX', '6RE9', '6RDR', '6RE3', '6RDU', '6RE6', '6RDI', '6RDL', '6RE0', '6RDN', '6RET', '6REP', '2E5Y', '1C99', '1WU0', '2R9V', '3ND9', '3ND8', '3QIA', '3QJY', '3QG1', '2X2V', '5BN4', '5BN3', '6RDD', '2E5U', '7JG6', '7JG7', '7JG8', '7JG9', '1L6T', '2QAI', '3ZRY', '3DSR', '3SDZ', '3SE0', '6TDZ', '6TE0', '6RD5', '2I4R', '3MFY', '3IKJ', '3I72', '3I73', '5X09', '6CP5', '6TDY', '2KHK', '1VZS', '3I4L', '6RDB', '6RDE', '6RDG', '6RD8', '6RD7', '6REA', '6RED', '6RDY', '6RDP', '6RE1', '6RDS', '6RE4', '6RDV', '6RE7', '6RDJ', '6RDM', '6RER', '6REU', '3LG8', '1ABV', '4CBK', '4CBJ', '2KK7', '2OV6', '2E5T', '2K6I', '1ATY', '2RKW', '3EIU', '3B2Q']\n"
     ]
    }
   ],
   "source": [
    "search_service = SearchService.TEXT\n",
    "search_operator = text_operators.ContainsPhraseOperator(value=\"ATP-synthase\",\n",
    "                                            attribute=\"struct.title\")\n",
    "return_type = ReturnType.ENTRY\n",
    "\n",
    "results = perform_search(search_service, search_operator, return_type)\n",
    "\n",
    "print(results)\n"
   ]
  },
  {
   "cell_type": "markdown",
   "metadata": {},
   "source": [
    "# Let's find all FoF1 complexes"
   ]
  },
  {
   "cell_type": "markdown",
   "metadata": {},
   "source": [
    "## By structural similarity"
   ]
  },
  {
   "cell_type": "markdown",
   "metadata": {},
   "source": [
    "Ищем все структуры, похожие на целую АТФ-синтазу"
   ]
  },
  {
   "cell_type": "code",
   "execution_count": 6,
   "metadata": {},
   "outputs": [
    {
     "name": "stdout",
     "output_type": "stream",
     "text": [
      "{'6OQR', '6CP6', '6VOJ', '6CP3', '7JG6', '6VON', '5T4Q', '6A5O', '6OQV', '6VM1', '5ARI', '5T4P', '6OQT', '5LQY', '7JG5', '5FIL', '7JG8', '6WNR', '6VOL', '6OQU', '7JGA', '6FKH', '5ARA', '7JG9', '6ZPO', '6VMB', '5LQX', '5T4O', '6A5P', '6VOH', '6N2Y', '6FKF', '6J5I', '6OQW', '6VMG', '6PQV', '6I84', '6A5U', '6J5J', '6TT7', '5LQZ', '5DN6', '6WNQ', '6VOF', '6FKI', '7JG7', '6OQS', '5ARH', '6N30', '6N2Z', '5FIJ', '6ZQM', '6VM4', '5FIK', '6ZQN'}\n"
     ]
    }
   ],
   "source": [
    "found_fof1_1 = Query('6FKF', query_type=\"structure\").search()\n",
    "set_fof1_level1 = set(found_fof1_1)\n",
    "for i in found_fof1_1:\n",
    "    found_i = Query(i, query_type=\"structure\").search()\n",
    "    set_fof1_level1.update(found_i)\n",
    "    \n",
    "print(set_fof1_level1)"
   ]
  },
  {
   "cell_type": "code",
   "execution_count": 7,
   "metadata": {},
   "outputs": [
    {
     "name": "stdout",
     "output_type": "stream",
     "text": [
      "{'6A5R', '6CP3', '7JG6', '6J4Y', '5FIL', '7JG8', '7JGA', '6FKH', '6ZPO', '6A5P', '5LQX', '6RED', '6VOH', '6N2Y', '6FKF', '6J4Z', '6RER', '6REU', '6RDV', '6RDG', '6VOF', '7JG7', '6N30', '6ZQM', '6VM4', '5FIK', '6ZQN', '6INQ', '5T4Q', '6OQV', '5ARI', '5T4P', '5LQY', '6RDJ', '6J4W', '6A5L', '6VMG', '6J4X', '6I84', '6A5U', '6TT7', '5LQZ', '6IR9', '5DN6', '6FKI', '6N2Z', '6OQR', '6CP6', '6VOJ', '6A5O', '6J51', '5ARE', '6J50', '6RDY', '6OQU', '5ARA', '6RDB', '7JG9', '6VMB', '6A5T', '5T4O', '6OQW', '6J5J', '6WNQ', '5ARH', '6RDM', '6RDP', '6VON', '6VM1', '6OQT', '7JG5', '6WNR', '6VOL', '6J5I', '6PQV', '6RDS', '6OQS', '5FIJ'}\n"
     ]
    }
   ],
   "source": [
    "set_fof1_level2 = set_fof1_level1.copy()\n",
    "for i in set_fof1_level1:\n",
    "    found_i = Query(i, query_type=\"structure\").search()\n",
    "    set_fof1_level2.update(found_i)\n",
    "    \n",
    "print(set_fof1_level2)"
   ]
  },
  {
   "cell_type": "code",
   "execution_count": 8,
   "metadata": {
    "scrolled": false
   },
   "outputs": [],
   "source": [
    "structure_table = {\n",
    "    'pdb_id' : [],\n",
    "    'title': [],\n",
    "    'method': [],\n",
    "    'year': [],\n",
    "    'resolution' : [],\n",
    "    'subunits': [],\n",
    "    'ligands': [],\n",
    "    'pubmed_id': []\n",
    "}\n",
    "for st in set_fof1_level2:\n",
    "    info = get_info(st)\n",
    "    if 'RNA' not in info['struct']['title']:\n",
    "        structure_table['pdb_id'].append(st)\n",
    "        structure_table['title'].append(info['struct']['title'])\n",
    "        structure_table['method'].append(info['exptl'][0]['method'])\n",
    "        structure_table['year'].append(info['citation'][0].get('year', []))\n",
    "        structure_table['resolution'].append(info['rcsb_entry_info']['resolution_combined'][0])\n",
    "        structure_table['subunits'].append(info['rcsb_entry_info']['polymer_entity_count_protein'])\n",
    "        structure_table['ligands'].append(info['rcsb_entry_info'].get('nonpolymer_bound_components', []))\n",
    "        structure_table['pubmed_id'].append(info['citation'][0].get('pdbx_database_id_pub_med', []))"
   ]
  },
  {
   "cell_type": "code",
   "execution_count": 9,
   "metadata": {},
   "outputs": [
    {
     "data": {
      "text/html": [
       "<div>\n",
       "<style scoped>\n",
       "    .dataframe tbody tr th:only-of-type {\n",
       "        vertical-align: middle;\n",
       "    }\n",
       "\n",
       "    .dataframe tbody tr th {\n",
       "        vertical-align: top;\n",
       "    }\n",
       "\n",
       "    .dataframe thead th {\n",
       "        text-align: right;\n",
       "    }\n",
       "</style>\n",
       "<table border=\"1\" class=\"dataframe\">\n",
       "  <thead>\n",
       "    <tr style=\"text-align: right;\">\n",
       "      <th></th>\n",
       "      <th>pdb_id</th>\n",
       "      <th>title</th>\n",
       "      <th>method</th>\n",
       "      <th>year</th>\n",
       "      <th>resolution</th>\n",
       "      <th>subunits</th>\n",
       "      <th>ligands</th>\n",
       "      <th>pubmed_id</th>\n",
       "    </tr>\n",
       "  </thead>\n",
       "  <tbody>\n",
       "    <tr>\n",
       "      <th>58</th>\n",
       "      <td>6J5I</td>\n",
       "      <td>Cryo-EM structure of the mammalian DP-state AT...</td>\n",
       "      <td>ELECTRON MICROSCOPY</td>\n",
       "      <td>2019</td>\n",
       "      <td>3.34</td>\n",
       "      <td>19</td>\n",
       "      <td>[ADP, ATP, MG]</td>\n",
       "      <td>31197009</td>\n",
       "    </tr>\n",
       "    <tr>\n",
       "      <th>59</th>\n",
       "      <td>6PQV</td>\n",
       "      <td>E. coli ATP Synthase State 1e</td>\n",
       "      <td>ELECTRON MICROSCOPY</td>\n",
       "      <td>2020</td>\n",
       "      <td>3.30</td>\n",
       "      <td>8</td>\n",
       "      <td>[ADP, ATP, MG, PO4]</td>\n",
       "      <td>32457314</td>\n",
       "    </tr>\n",
       "    <tr>\n",
       "      <th>60</th>\n",
       "      <td>6RDS</td>\n",
       "      <td>Cryo-EM structure of Polytomella F-ATP synthas...</td>\n",
       "      <td>ELECTRON MICROSCOPY</td>\n",
       "      <td>2019</td>\n",
       "      <td>3.80</td>\n",
       "      <td>7</td>\n",
       "      <td>[ADP, ATP, MG]</td>\n",
       "      <td>31221832</td>\n",
       "    </tr>\n",
       "    <tr>\n",
       "      <th>61</th>\n",
       "      <td>6OQS</td>\n",
       "      <td>E. coli ATP synthase State 1b</td>\n",
       "      <td>ELECTRON MICROSCOPY</td>\n",
       "      <td>2020</td>\n",
       "      <td>3.30</td>\n",
       "      <td>8</td>\n",
       "      <td>[ADP, ATP, MG, PO4]</td>\n",
       "      <td>32457314</td>\n",
       "    </tr>\n",
       "    <tr>\n",
       "      <th>62</th>\n",
       "      <td>5FIJ</td>\n",
       "      <td>Bovine mitochondrial ATP synthase state 2c</td>\n",
       "      <td>ELECTRON MICROSCOPY</td>\n",
       "      <td>2015</td>\n",
       "      <td>7.40</td>\n",
       "      <td>11</td>\n",
       "      <td>[]</td>\n",
       "      <td>26439008</td>\n",
       "    </tr>\n",
       "  </tbody>\n",
       "</table>\n",
       "</div>"
      ],
      "text/plain": [
       "   pdb_id                                              title  \\\n",
       "58   6J5I  Cryo-EM structure of the mammalian DP-state AT...   \n",
       "59   6PQV                      E. coli ATP Synthase State 1e   \n",
       "60   6RDS  Cryo-EM structure of Polytomella F-ATP synthas...   \n",
       "61   6OQS                      E. coli ATP synthase State 1b   \n",
       "62   5FIJ         Bovine mitochondrial ATP synthase state 2c   \n",
       "\n",
       "                 method  year  resolution  subunits              ligands  \\\n",
       "58  ELECTRON MICROSCOPY  2019        3.34        19       [ADP, ATP, MG]   \n",
       "59  ELECTRON MICROSCOPY  2020        3.30         8  [ADP, ATP, MG, PO4]   \n",
       "60  ELECTRON MICROSCOPY  2019        3.80         7       [ADP, ATP, MG]   \n",
       "61  ELECTRON MICROSCOPY  2020        3.30         8  [ADP, ATP, MG, PO4]   \n",
       "62  ELECTRON MICROSCOPY  2015        7.40        11                   []   \n",
       "\n",
       "   pubmed_id  \n",
       "58  31197009  \n",
       "59  32457314  \n",
       "60  31221832  \n",
       "61  32457314  \n",
       "62  26439008  "
      ]
     },
     "execution_count": 9,
     "metadata": {},
     "output_type": "execute_result"
    }
   ],
   "source": [
    "df = pd.DataFrame(structure_table)\n",
    "df.tail()"
   ]
  },
  {
   "cell_type": "code",
   "execution_count": 10,
   "metadata": {},
   "outputs": [],
   "source": [
    "df.to_csv('fof1_structure_list_v2.csv')"
   ]
  },
  {
   "cell_type": "markdown",
   "metadata": {},
   "source": [
    "# Let's find F1"
   ]
  },
  {
   "cell_type": "code",
   "execution_count": 11,
   "metadata": {},
   "outputs": [
    {
     "name": "stdout",
     "output_type": "stream",
     "text": [
      "{'3OEE', '2W6I', '4TSF', '1EFR', '2JDI', '2W6F', '6Q45', '3ZRY', '3VR4', '2F43', '2W6H', '4TT3', '1E1Q', '3A5C', '3OE7', '6VOO', '1COW', '6VOK', '6VOM', '6LY8', '6VOG', '3VR5', '5KNB', '2W6J', '2JJ1', '1JNV', '6SWE', '6VOI', '3W3A', '1W0K', '4Z1M', '3OFN', '2W6E', '3OAA', '6VMD', '2CK3', '1BMF', '1NBM', '3FKS', '4XD7', '4ASU', '2V7Q', '3OEH', '1OHH', '1H8E', '1E79', '1W0J', '3A5D', '2QE7', '5IK2', '2HLD', '5KND', '2JJ2', '6YO0', '3ZIA', '6FOC', '5HKK', '3VR6', '2JIZ', '1E1R', '2WSS', '5KNC', '4YXW', '1H8H', '6YY0', '2W6G', '1MAB'}\n"
     ]
    }
   ],
   "source": [
    "found_f1_1 = Query('1E79', query_type=\"structure\").search()\n",
    "set_f1_level1 = set(found_f1_1)\n",
    "for i in found_f1_1:\n",
    "    found_i = Query(i, query_type=\"structure\").search()\n",
    "    set_f1_level1.update(found_i)\n",
    "    \n",
    "print(set_f1_level1)"
   ]
  },
  {
   "cell_type": "code",
   "execution_count": 12,
   "metadata": {},
   "outputs": [
    {
     "name": "stdout",
     "output_type": "stream",
     "text": [
      "{'2W6I', '4TSF', '4GZY', '2W6H', '4TT3', '6BYU', '6RI9', '2W6J', '6JBQ', '4YLO', '3W3A', '5VSW', '4YFK', '3HKZ', '3FKS', '3VR2', '5UAJ', '6UT5', '1W0J', '6CHS', '6J9F', '6ALG', '5HKK', '1E1R', '2WSS', '5KNC', '3VR3', '3OEE', '6M6C', '1SMY', '6VOK', '6VOM', '6VOG', '5KNB', '6EYD', '2JJ1', '6SWE', '6ZOL', '2A69', '5UAQ', '1BMF', '2CK3', '6FBV', '5TBZ', '4YFN', '4XSZ', '2HLD', '6C6U', '2BE5', '6RIP', '3AOH', '3VR6', '6KF3', '5ZX3', '2CW0', '4KN7', '1EFR', '2JDI', '3OE7', '4ZH2', '1JNV', '6BZO', '6KOP', '1FX0', '5ZX2', '4BUJ', '3OAA', '6VMD', '4ASU', '4QIW', '2V7Q', '3OEH', '4MEX', '5W1T', '6VVT', '4YXW', '5W1S', '2A6E', '6LY8', '3OFN', '6P19', '4KN4', '4MQ9', '1E79', '4ZH4', '2QE7', '5IK2', '4ZH3', '6DCF', '5KND', '6FOC', '6RH3', '5VI5', '2Y0S', '2WAQ', '2W6F', '4KMU', '6Q45', '3ZRY', '6BJS', '1COW', '2A6H', '4YLN', '3VR5', '6NJO', '6CUX', '4Z1M', '1NBM', '4LJZ', '4XSY', '5UAH', '6N61', '1MAB', '6RI7', '1KMH', '2PMZ', '2F43', '1E1Q', '5ZE9', '6R9G', '2A68', '6VOI', '1W0K', '2W6E', '4XD7', '1H8E', '4YFX', '6Z11', '5EZK', '3A5D', '4WQS', '5IPL', '2WB1', '4GZZ', '5UAL', '4V8S', '2JIZ', '6YY0', '4YG2', '4LK1', '2W6G', '3VR4', '5UAG', '4XSX', '6VOO', '6FLP', '5BN3', '6CIJ', '4OO1', '6C6T', '4AYB', '4JK2', '5BN4', '1OHH', '5OAF', '2JJ2', '6YO0', '3ZIA', '1H8H', '5UAC', '6VJS', '4JK1', '6RIN', '3A5C', '3AOI', '6NJP', '6ASX', '6UT8', '4MEY', '3EQL', '1IW7', '1ZYR'}\n"
     ]
    }
   ],
   "source": [
    "set_f1_level2 = set_f1_level1.copy()\n",
    "for i in set_f1_level1:\n",
    "    found_i = Query(i, query_type=\"structure\").search()\n",
    "    set_f1_level2.update(found_i)\n",
    "    \n",
    "print(set_f1_level2)"
   ]
  },
  {
   "cell_type": "code",
   "execution_count": 13,
   "metadata": {},
   "outputs": [],
   "source": [
    "structures_f1_table = {\n",
    "    'pdb_id' : [],\n",
    "    'title': [],\n",
    "    'method': [],\n",
    "    'year': [],\n",
    "    'resolution' : [],\n",
    "    'subunits': [],\n",
    "    'ligands': [],\n",
    "    'pubmed_id': []\n",
    "}\n",
    "for st in set_f1_level2:\n",
    "    info = get_info(st)\n",
    "    if 'RNA' not in info['struct']['title']:\n",
    "        structures_f1_table['pdb_id'].append(st)\n",
    "        structures_f1_table['title'].append(info['struct']['title'])\n",
    "        structures_f1_table['method'].append(info['exptl'][0]['method'])\n",
    "        structures_f1_table['year'].append(info['citation'][0].get('year', []))\n",
    "        structures_f1_table['resolution'].append(info['rcsb_entry_info']['resolution_combined'][0])\n",
    "        structures_f1_table['subunits'].append(info['rcsb_entry_info']['polymer_entity_count_protein'])\n",
    "        structures_f1_table['ligands'].append(info['rcsb_entry_info'].get('nonpolymer_bound_components', []))\n",
    "        structures_f1_table['pubmed_id'].append(info['citation'][0].get('pdbx_database_id_pub_med', []))\n",
    "\n",
    "df_f1 = pd.DataFrame(structures_f1_table)\n",
    "df_f1.head()\n",
    "df_f1.to_csv('f1_structure_list_v2.csv')\n"
   ]
  },
  {
   "cell_type": "markdown",
   "metadata": {},
   "source": [
    "# Additional info"
   ]
  },
  {
   "cell_type": "markdown",
   "metadata": {},
   "source": [
    "Можно посмотреть, как выглядит большая непонятная выдача в виде json'ины"
   ]
  },
  {
   "cell_type": "code",
   "execution_count": 88,
   "metadata": {
    "scrolled": false
   },
   "outputs": [],
   "source": [
    "import json\n",
    "kk = json.dumps(info, indent=2)"
   ]
  }
 ],
 "metadata": {
  "kernelspec": {
   "display_name": "Python 3",
   "language": "python",
   "name": "python3"
  },
  "language_info": {
   "codemirror_mode": {
    "name": "ipython",
    "version": 3
   },
   "file_extension": ".py",
   "mimetype": "text/x-python",
   "name": "python",
   "nbconvert_exporter": "python",
   "pygments_lexer": "ipython3",
   "version": "3.7.3"
  }
 },
 "nbformat": 4,
 "nbformat_minor": 2
}
